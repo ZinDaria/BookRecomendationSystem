{
 "cells": [
  {
   "cell_type": "markdown",
   "metadata": {},
   "source": [
    "# Project 4 - Books Recommendation using cosine similarity\n",
    "Collaborative based filtering->Item based"
   ]
  },
  {
   "cell_type": "code",
   "execution_count": 1,
   "metadata": {},
   "outputs": [],
   "source": [
    "# Dependencies\n",
    "import pandas as pd\n",
    "import matplotlib.pyplot as plt\n",
    "from sklearn.metrics.pairwise import cosine_similarity\n",
    "import sklearn as sk\n",
    "import pickle as pk"
   ]
  },
  {
   "cell_type": "code",
   "execution_count": 2,
   "metadata": {},
   "outputs": [],
   "source": [
    "def leave_stat_sign(ratings_df):\n",
    "    #find the count of books rated by user\n",
    "    groupped_r_users=ratings_df.groupby('User-ID')['Book-Rating'].count()\n",
    "    #find the count of rates per book-title\n",
    "    groupped_r_books=ratings_df.groupby('Book-Title')['User-ID'].count()\n",
    "    #select only those books which were rated more than min_rates_received_by_book\n",
    "    titles_with_acceptable_rates_count=list(groupped_r_books[groupped_r_books>min_rates_received_by_book].index)\n",
    "    #select only those users (user_id) who rated more than min_books_rated_by_user books\n",
    "    user_ids_with_acceptable_books_count_rated=list(groupped_r_users[groupped_r_users>min_books_rated_by_user].index)\n",
    "    # filter rating-user data to have only books/users of interest (which have highest rates count and rated highest number of books respectively)\n",
    "    rating_input_df=ratings_df[ratings_df['Book-Title'].isin(titles_with_acceptable_rates_count)&ratings_df['User-ID'].isin(user_ids_with_acceptable_books_count_rated)]\n",
    "    return rating_input_df"
   ]
  },
  {
   "cell_type": "code",
   "execution_count": 3,
   "metadata": {},
   "outputs": [],
   "source": [
    "def recommend_me_books_cos_sim(book_title, rating_input_df, top_X_recommendations=5):\n",
    "    # use pivot method to create a matrix with columns=User-ID and rows='Book-Title' and values equal to rating value given for a book by a respective user\n",
    "    df_books_ratigs_user=rating_input_df.pivot_table(index='Book-Title', columns='User-ID', values='Book-Rating')\n",
    "    # filling n/a with 0 so far, assuming it means that no interest for a book by a user,\n",
    "    df_books_ratigs_user=df_books_ratigs_user.fillna(0)\n",
    "    # create a dictionary for mapping between row number ans Book-Title\n",
    "    index_title_dict=dict(df_books_ratigs_user.reset_index()['Book-Title'])\n",
    "    # apply cosine_similarity\n",
    "    books_similarity = cosine_similarity(df_books_ratigs_user)\n",
    "    # convert output of cosine_similarity into df\n",
    "    books_similarity_df=pd.DataFrame(books_similarity)\n",
    "    # introduce title here\n",
    "    books_similarity_df=books_similarity_df.rename(columns=index_title_dict)\n",
    "    books_similarity_df.index=books_similarity_df.index.map(index_title_dict)\n",
    "    # find a similarity list for the book\n",
    "    recommendations=pd.DataFrame(books_similarity_df.loc[book_title,:])\n",
    "    # remove the actual book\n",
    "    book_title_list=[book_title]\n",
    "    recommendations=recommendations[~recommendations.index.isin(book_title_list)].sort_values(by=book_title, ascending=False)\n",
    "    # select top top_X_recommendations\n",
    "    top_recommendations=recommendations[:top_X_recommendations].rename(columns={book_title:'similarity rate'})\n",
    "    top_recommendations=top_recommendations.rename_axis('Book-Title', axis='index')\n",
    "    recommendations_full_info=pd.merge(top_recommendations, books_df, left_on='Book-Title',right_on='Book-Title', how='left')\n",
    "    dict_years=dict(recommendations_full_info.groupby('Book-Title')['Year-Of-Publication'].max())\n",
    "    for i, row in recommendations_full_info.iterrows():\n",
    "        if row['Year-Of-Publication']!=dict_years[row['Book-Title']]:\n",
    "            recommendations_full_info.loc[i,'Year-Of-Publication']=0\n",
    "    recommendations_full_info=recommendations_full_info[recommendations_full_info['Year-Of-Publication'] != 0]\n",
    "    recommendations_full_info=recommendations_full_info.drop_duplicates(subset=['Book-Title'])\n",
    "    return recommendations_full_info"
   ]
  },
  {
   "cell_type": "markdown",
   "metadata": {},
   "source": [
    "### Data preparation"
   ]
  },
  {
   "cell_type": "code",
   "execution_count": 4,
   "metadata": {},
   "outputs": [
    {
     "name": "stderr",
     "output_type": "stream",
     "text": [
      "/var/folders/3g/t4y_09d901v7s2qw9dqk8jzw0000gn/T/ipykernel_4882/3321706434.py:2: DtypeWarning: Columns (3) have mixed types. Specify dtype option on import or set low_memory=False.\n",
      "  books_df_original = pd.read_csv('./Resources/Books.csv')\n"
     ]
    }
   ],
   "source": [
    "#Creating dataframes from csv files to read the data\n",
    "books_df_original = pd.read_csv('./Resources/Books.csv')\n",
    "ratings_df = pd.read_csv('./Resources/Ratings.csv')"
   ]
  },
  {
   "cell_type": "code",
   "execution_count": 5,
   "metadata": {},
   "outputs": [],
   "source": [
    "books_df = books_df_original.copy()\n",
    "# update the datatype of a 'Year-Of-Publication' field to numeric one\n",
    "books_df['Year-Of-Publication']=pd.to_numeric(books_df['Year-Of-Publication'],errors='coerce')\n",
    "# Filter out data with no publication year\n",
    "books_df = books_df[books_df['Year-Of-Publication'] > 0]\n",
    "books_df['Year-Of-Publication']=books_df['Year-Of-Publication'].astype(int)"
   ]
  },
  {
   "cell_type": "code",
   "execution_count": 6,
   "metadata": {},
   "outputs": [],
   "source": [
    "# remove duplicated books records if any by looking at ISBN\n",
    "books_df=books_df.drop_duplicates(subset=['ISBN'])"
   ]
  },
  {
   "cell_type": "code",
   "execution_count": 7,
   "metadata": {},
   "outputs": [],
   "source": [
    "# update the datatype of a 'Book-Rating' field to numeric one\n",
    "ratings_df['Book-Rating']=pd.to_numeric(ratings_df['Book-Rating'],errors='coerce')"
   ]
  },
  {
   "cell_type": "code",
   "execution_count": 8,
   "metadata": {},
   "outputs": [],
   "source": [
    "# merge books data with ratings, so that we have only those records where books is rated and has title info\n",
    "ratings_df=pd.merge(books_df,ratings_df,on='ISBN', how = 'inner')\n",
    "# leave only title, user and rating data\n",
    "ratings_df=ratings_df.drop(['ISBN','Book-Author','Year-Of-Publication','Publisher','Image-URL-S','Image-URL-M','Image-URL-L'], axis=1)\n",
    "# drop if any N/As\n",
    "ratings_df=ratings_df.dropna()\n",
    "# drop duplicated records when same user could rate book(s) with same title\n",
    "ratings_df=ratings_df.drop_duplicates()\n",
    "# drop zero ratings\n",
    "ratings_df_no_zero = ratings_df[ratings_df['Book-Rating'] > 0]"
   ]
  },
  {
   "cell_type": "markdown",
   "metadata": {},
   "source": [
    "### Filter data, so that only statistically significant data are left"
   ]
  },
  {
   "cell_type": "code",
   "execution_count": 9,
   "metadata": {},
   "outputs": [],
   "source": [
    "min_books_rated_by_user=50\n",
    "min_rates_received_by_book=25"
   ]
  },
  {
   "cell_type": "code",
   "execution_count": 10,
   "metadata": {},
   "outputs": [],
   "source": [
    "rating_input_df=leave_stat_sign(ratings_df)\n",
    "rating_input_df_no_zero=leave_stat_sign(ratings_df_no_zero)"
   ]
  },
  {
   "cell_type": "markdown",
   "metadata": {},
   "source": [
    "# Recommendation"
   ]
  },
  {
   "cell_type": "code",
   "execution_count": 11,
   "metadata": {},
   "outputs": [
    {
     "data": {
      "text/html": [
       "<div>\n",
       "<style scoped>\n",
       "    .dataframe tbody tr th:only-of-type {\n",
       "        vertical-align: middle;\n",
       "    }\n",
       "\n",
       "    .dataframe tbody tr th {\n",
       "        vertical-align: top;\n",
       "    }\n",
       "\n",
       "    .dataframe thead th {\n",
       "        text-align: right;\n",
       "    }\n",
       "</style>\n",
       "<table border=\"1\" class=\"dataframe\">\n",
       "  <thead>\n",
       "    <tr style=\"text-align: right;\">\n",
       "      <th></th>\n",
       "      <th>ISBN</th>\n",
       "      <th>Book-Title</th>\n",
       "      <th>Book-Author</th>\n",
       "      <th>Year-Of-Publication</th>\n",
       "      <th>Publisher</th>\n",
       "      <th>Image-URL-S</th>\n",
       "      <th>Image-URL-M</th>\n",
       "      <th>Image-URL-L</th>\n",
       "    </tr>\n",
       "  </thead>\n",
       "  <tbody>\n",
       "    <tr>\n",
       "      <th>1863</th>\n",
       "      <td>0446610038</td>\n",
       "      <td>1st to Die: A Novel</td>\n",
       "      <td>James Patterson</td>\n",
       "      <td>2002</td>\n",
       "      <td>Warner Vision</td>\n",
       "      <td>http://images.amazon.com/images/P/0446610038.0...</td>\n",
       "      <td>http://images.amazon.com/images/P/0446610038.0...</td>\n",
       "      <td>http://images.amazon.com/images/P/0446610038.0...</td>\n",
       "    </tr>\n",
       "    <tr>\n",
       "      <th>4131</th>\n",
       "      <td>0316666009</td>\n",
       "      <td>1st to Die: A Novel</td>\n",
       "      <td>James Patterson</td>\n",
       "      <td>2001</td>\n",
       "      <td>Little Brown and Company</td>\n",
       "      <td>http://images.amazon.com/images/P/0316666009.0...</td>\n",
       "      <td>http://images.amazon.com/images/P/0316666009.0...</td>\n",
       "      <td>http://images.amazon.com/images/P/0316666009.0...</td>\n",
       "    </tr>\n",
       "  </tbody>\n",
       "</table>\n",
       "</div>"
      ],
      "text/plain": [
       "            ISBN           Book-Title      Book-Author  Year-Of-Publication  \\\n",
       "1863  0446610038  1st to Die: A Novel  James Patterson                 2002   \n",
       "4131  0316666009  1st to Die: A Novel  James Patterson                 2001   \n",
       "\n",
       "                     Publisher  \\\n",
       "1863             Warner Vision   \n",
       "4131  Little Brown and Company   \n",
       "\n",
       "                                            Image-URL-S  \\\n",
       "1863  http://images.amazon.com/images/P/0446610038.0...   \n",
       "4131  http://images.amazon.com/images/P/0316666009.0...   \n",
       "\n",
       "                                            Image-URL-M  \\\n",
       "1863  http://images.amazon.com/images/P/0446610038.0...   \n",
       "4131  http://images.amazon.com/images/P/0316666009.0...   \n",
       "\n",
       "                                            Image-URL-L  \n",
       "1863  http://images.amazon.com/images/P/0446610038.0...  \n",
       "4131  http://images.amazon.com/images/P/0316666009.0...  "
      ]
     },
     "execution_count": 11,
     "metadata": {},
     "output_type": "execute_result"
    }
   ],
   "source": [
    "books_df[books_df['Book-Title']=='1st to Die: A Novel']"
   ]
  },
  {
   "cell_type": "code",
   "execution_count": 12,
   "metadata": {},
   "outputs": [
    {
     "data": {
      "text/html": [
       "<div>\n",
       "<style scoped>\n",
       "    .dataframe tbody tr th:only-of-type {\n",
       "        vertical-align: middle;\n",
       "    }\n",
       "\n",
       "    .dataframe tbody tr th {\n",
       "        vertical-align: top;\n",
       "    }\n",
       "\n",
       "    .dataframe thead th {\n",
       "        text-align: right;\n",
       "    }\n",
       "</style>\n",
       "<table border=\"1\" class=\"dataframe\">\n",
       "  <thead>\n",
       "    <tr style=\"text-align: right;\">\n",
       "      <th></th>\n",
       "      <th>Book-Title</th>\n",
       "      <th>similarity rate</th>\n",
       "      <th>ISBN</th>\n",
       "      <th>Book-Author</th>\n",
       "      <th>Year-Of-Publication</th>\n",
       "      <th>Publisher</th>\n",
       "      <th>Image-URL-S</th>\n",
       "      <th>Image-URL-M</th>\n",
       "      <th>Image-URL-L</th>\n",
       "    </tr>\n",
       "  </thead>\n",
       "  <tbody>\n",
       "    <tr>\n",
       "      <th>1</th>\n",
       "      <td>Pop Goes the Weasel</td>\n",
       "      <td>0.249912</td>\n",
       "      <td>0446608815</td>\n",
       "      <td>James Patterson</td>\n",
       "      <td>2000</td>\n",
       "      <td>Warner Vision</td>\n",
       "      <td>http://images.amazon.com/images/P/0446608815.0...</td>\n",
       "      <td>http://images.amazon.com/images/P/0446608815.0...</td>\n",
       "      <td>http://images.amazon.com/images/P/0446608815.0...</td>\n",
       "    </tr>\n",
       "    <tr>\n",
       "      <th>5</th>\n",
       "      <td>Along Came a Spider (Alex Cross Novels)</td>\n",
       "      <td>0.225930</td>\n",
       "      <td>0446692638</td>\n",
       "      <td>James Patterson</td>\n",
       "      <td>2003</td>\n",
       "      <td>Warner Books</td>\n",
       "      <td>http://images.amazon.com/images/P/0446692638.0...</td>\n",
       "      <td>http://images.amazon.com/images/P/0446692638.0...</td>\n",
       "      <td>http://images.amazon.com/images/P/0446692638.0...</td>\n",
       "    </tr>\n",
       "    <tr>\n",
       "      <th>9</th>\n",
       "      <td>Kiss the Girls</td>\n",
       "      <td>0.215181</td>\n",
       "      <td>0446677388</td>\n",
       "      <td>James Patterson</td>\n",
       "      <td>2000</td>\n",
       "      <td>Warner Books</td>\n",
       "      <td>http://images.amazon.com/images/P/0446677388.0...</td>\n",
       "      <td>http://images.amazon.com/images/P/0446677388.0...</td>\n",
       "      <td>http://images.amazon.com/images/P/0446677388.0...</td>\n",
       "    </tr>\n",
       "    <tr>\n",
       "      <th>11</th>\n",
       "      <td>Roses Are Red (Alex Cross Novels)</td>\n",
       "      <td>0.212501</td>\n",
       "      <td>0446605484</td>\n",
       "      <td>James Patterson</td>\n",
       "      <td>2001</td>\n",
       "      <td>Warner Vision</td>\n",
       "      <td>http://images.amazon.com/images/P/0446605484.0...</td>\n",
       "      <td>http://images.amazon.com/images/P/0446605484.0...</td>\n",
       "      <td>http://images.amazon.com/images/P/0446605484.0...</td>\n",
       "    </tr>\n",
       "    <tr>\n",
       "      <th>12</th>\n",
       "      <td>Blood Test (Alex Delaware Novels (Paperback))</td>\n",
       "      <td>0.211548</td>\n",
       "      <td>0553569635</td>\n",
       "      <td>Jonathan Kellerman</td>\n",
       "      <td>1995</td>\n",
       "      <td>Bantam Books</td>\n",
       "      <td>http://images.amazon.com/images/P/0553569635.0...</td>\n",
       "      <td>http://images.amazon.com/images/P/0553569635.0...</td>\n",
       "      <td>http://images.amazon.com/images/P/0553569635.0...</td>\n",
       "    </tr>\n",
       "  </tbody>\n",
       "</table>\n",
       "</div>"
      ],
      "text/plain": [
       "                                       Book-Title  similarity rate  \\\n",
       "1                             Pop Goes the Weasel         0.249912   \n",
       "5         Along Came a Spider (Alex Cross Novels)         0.225930   \n",
       "9                                  Kiss the Girls         0.215181   \n",
       "11              Roses Are Red (Alex Cross Novels)         0.212501   \n",
       "12  Blood Test (Alex Delaware Novels (Paperback))         0.211548   \n",
       "\n",
       "          ISBN         Book-Author  Year-Of-Publication      Publisher  \\\n",
       "1   0446608815     James Patterson                 2000  Warner Vision   \n",
       "5   0446692638     James Patterson                 2003   Warner Books   \n",
       "9   0446677388     James Patterson                 2000   Warner Books   \n",
       "11  0446605484     James Patterson                 2001  Warner Vision   \n",
       "12  0553569635  Jonathan Kellerman                 1995   Bantam Books   \n",
       "\n",
       "                                          Image-URL-S  \\\n",
       "1   http://images.amazon.com/images/P/0446608815.0...   \n",
       "5   http://images.amazon.com/images/P/0446692638.0...   \n",
       "9   http://images.amazon.com/images/P/0446677388.0...   \n",
       "11  http://images.amazon.com/images/P/0446605484.0...   \n",
       "12  http://images.amazon.com/images/P/0553569635.0...   \n",
       "\n",
       "                                          Image-URL-M  \\\n",
       "1   http://images.amazon.com/images/P/0446608815.0...   \n",
       "5   http://images.amazon.com/images/P/0446692638.0...   \n",
       "9   http://images.amazon.com/images/P/0446677388.0...   \n",
       "11  http://images.amazon.com/images/P/0446605484.0...   \n",
       "12  http://images.amazon.com/images/P/0553569635.0...   \n",
       "\n",
       "                                          Image-URL-L  \n",
       "1   http://images.amazon.com/images/P/0446608815.0...  \n",
       "5   http://images.amazon.com/images/P/0446692638.0...  \n",
       "9   http://images.amazon.com/images/P/0446677388.0...  \n",
       "11  http://images.amazon.com/images/P/0446605484.0...  \n",
       "12  http://images.amazon.com/images/P/0553569635.0...  "
      ]
     },
     "execution_count": 12,
     "metadata": {},
     "output_type": "execute_result"
    }
   ],
   "source": [
    "# original data\n",
    "recommend_me_books_cos_sim('1st to Die: A Novel', rating_input_df)"
   ]
  },
  {
   "cell_type": "code",
   "execution_count": 13,
   "metadata": {},
   "outputs": [],
   "source": [
    "# data with no 0 ratings"
   ]
  },
  {
   "cell_type": "code",
   "execution_count": 14,
   "metadata": {},
   "outputs": [
    {
     "data": {
      "text/html": [
       "<div>\n",
       "<style scoped>\n",
       "    .dataframe tbody tr th:only-of-type {\n",
       "        vertical-align: middle;\n",
       "    }\n",
       "\n",
       "    .dataframe tbody tr th {\n",
       "        vertical-align: top;\n",
       "    }\n",
       "\n",
       "    .dataframe thead th {\n",
       "        text-align: right;\n",
       "    }\n",
       "</style>\n",
       "<table border=\"1\" class=\"dataframe\">\n",
       "  <thead>\n",
       "    <tr style=\"text-align: right;\">\n",
       "      <th></th>\n",
       "      <th>Book-Title</th>\n",
       "      <th>similarity rate</th>\n",
       "      <th>ISBN</th>\n",
       "      <th>Book-Author</th>\n",
       "      <th>Year-Of-Publication</th>\n",
       "      <th>Publisher</th>\n",
       "      <th>Image-URL-S</th>\n",
       "      <th>Image-URL-M</th>\n",
       "      <th>Image-URL-L</th>\n",
       "    </tr>\n",
       "  </thead>\n",
       "  <tbody>\n",
       "    <tr>\n",
       "      <th>1</th>\n",
       "      <td>Along Came a Spider (Alex Cross Novels)</td>\n",
       "      <td>0.311337</td>\n",
       "      <td>0446692638</td>\n",
       "      <td>James Patterson</td>\n",
       "      <td>2003</td>\n",
       "      <td>Warner Books</td>\n",
       "      <td>http://images.amazon.com/images/P/0446692638.0...</td>\n",
       "      <td>http://images.amazon.com/images/P/0446692638.0...</td>\n",
       "      <td>http://images.amazon.com/images/P/0446692638.0...</td>\n",
       "    </tr>\n",
       "    <tr>\n",
       "      <th>4</th>\n",
       "      <td>Pop Goes the Weasel</td>\n",
       "      <td>0.274865</td>\n",
       "      <td>0446608815</td>\n",
       "      <td>James Patterson</td>\n",
       "      <td>2000</td>\n",
       "      <td>Warner Vision</td>\n",
       "      <td>http://images.amazon.com/images/P/0446608815.0...</td>\n",
       "      <td>http://images.amazon.com/images/P/0446608815.0...</td>\n",
       "      <td>http://images.amazon.com/images/P/0446608815.0...</td>\n",
       "    </tr>\n",
       "    <tr>\n",
       "      <th>7</th>\n",
       "      <td>The Summons</td>\n",
       "      <td>0.271310</td>\n",
       "      <td>0440241073</td>\n",
       "      <td>John Grisham</td>\n",
       "      <td>2002</td>\n",
       "      <td>Dell Publishing Company</td>\n",
       "      <td>http://images.amazon.com/images/P/0440241073.0...</td>\n",
       "      <td>http://images.amazon.com/images/P/0440241073.0...</td>\n",
       "      <td>http://images.amazon.com/images/P/0440241073.0...</td>\n",
       "    </tr>\n",
       "    <tr>\n",
       "      <th>13</th>\n",
       "      <td>Kiss the Girls</td>\n",
       "      <td>0.269930</td>\n",
       "      <td>0446677388</td>\n",
       "      <td>James Patterson</td>\n",
       "      <td>2000</td>\n",
       "      <td>Warner Books</td>\n",
       "      <td>http://images.amazon.com/images/P/0446677388.0...</td>\n",
       "      <td>http://images.amazon.com/images/P/0446677388.0...</td>\n",
       "      <td>http://images.amazon.com/images/P/0446677388.0...</td>\n",
       "    </tr>\n",
       "    <tr>\n",
       "      <th>15</th>\n",
       "      <td>Roses Are Red (Alex Cross Novels)</td>\n",
       "      <td>0.255464</td>\n",
       "      <td>0446605484</td>\n",
       "      <td>James Patterson</td>\n",
       "      <td>2001</td>\n",
       "      <td>Warner Vision</td>\n",
       "      <td>http://images.amazon.com/images/P/0446605484.0...</td>\n",
       "      <td>http://images.amazon.com/images/P/0446605484.0...</td>\n",
       "      <td>http://images.amazon.com/images/P/0446605484.0...</td>\n",
       "    </tr>\n",
       "  </tbody>\n",
       "</table>\n",
       "</div>"
      ],
      "text/plain": [
       "                                 Book-Title  similarity rate        ISBN  \\\n",
       "1   Along Came a Spider (Alex Cross Novels)         0.311337  0446692638   \n",
       "4                       Pop Goes the Weasel         0.274865  0446608815   \n",
       "7                               The Summons         0.271310  0440241073   \n",
       "13                           Kiss the Girls         0.269930  0446677388   \n",
       "15        Roses Are Red (Alex Cross Novels)         0.255464  0446605484   \n",
       "\n",
       "        Book-Author  Year-Of-Publication                Publisher  \\\n",
       "1   James Patterson                 2003             Warner Books   \n",
       "4   James Patterson                 2000            Warner Vision   \n",
       "7      John Grisham                 2002  Dell Publishing Company   \n",
       "13  James Patterson                 2000             Warner Books   \n",
       "15  James Patterson                 2001            Warner Vision   \n",
       "\n",
       "                                          Image-URL-S  \\\n",
       "1   http://images.amazon.com/images/P/0446692638.0...   \n",
       "4   http://images.amazon.com/images/P/0446608815.0...   \n",
       "7   http://images.amazon.com/images/P/0440241073.0...   \n",
       "13  http://images.amazon.com/images/P/0446677388.0...   \n",
       "15  http://images.amazon.com/images/P/0446605484.0...   \n",
       "\n",
       "                                          Image-URL-M  \\\n",
       "1   http://images.amazon.com/images/P/0446692638.0...   \n",
       "4   http://images.amazon.com/images/P/0446608815.0...   \n",
       "7   http://images.amazon.com/images/P/0440241073.0...   \n",
       "13  http://images.amazon.com/images/P/0446677388.0...   \n",
       "15  http://images.amazon.com/images/P/0446605484.0...   \n",
       "\n",
       "                                          Image-URL-L  \n",
       "1   http://images.amazon.com/images/P/0446692638.0...  \n",
       "4   http://images.amazon.com/images/P/0446608815.0...  \n",
       "7   http://images.amazon.com/images/P/0440241073.0...  \n",
       "13  http://images.amazon.com/images/P/0446677388.0...  \n",
       "15  http://images.amazon.com/images/P/0446605484.0...  "
      ]
     },
     "execution_count": 14,
     "metadata": {},
     "output_type": "execute_result"
    }
   ],
   "source": [
    "recommend_me_books_cos_sim('1st to Die: A Novel', rating_input_df_no_zero)"
   ]
  },
  {
   "cell_type": "code",
   "execution_count": 15,
   "metadata": {},
   "outputs": [
    {
     "name": "stderr",
     "output_type": "stream",
     "text": [
      "/var/folders/3g/t4y_09d901v7s2qw9dqk8jzw0000gn/T/ipykernel_4882/386969039.py:1: SettingWithCopyWarning: \n",
      "A value is trying to be set on a copy of a slice from a DataFrame.\n",
      "Try using .loc[row_indexer,col_indexer] = value instead\n",
      "\n",
      "See the caveats in the documentation: https://pandas.pydata.org/pandas-docs/stable/user_guide/indexing.html#returning-a-view-versus-a-copy\n",
      "  rating_input_df['Book-Title']=rating_input_df['Book-Title'].str.replace('&amp;', '&')\n"
     ]
    }
   ],
   "source": [
    "rating_input_df['Book-Title']=rating_input_df['Book-Title'].str.replace('&amp;', '&')\n",
    "books_df['Book-Title']=books_df['Book-Title'].str.replace('&amp;', '&')"
   ]
  },
  {
   "cell_type": "code",
   "execution_count": 16,
   "metadata": {},
   "outputs": [],
   "source": [
    "pk.dump(rating_input_df,open('rating_input.pkl','wb'))\n",
    "pk.dump(books_df,open('books_df.pkl','wb'))"
   ]
  }
 ],
 "metadata": {
  "anaconda-cloud": {},
  "kernelspec": {
   "display_name": "Python 3 (ipykernel)",
   "language": "python",
   "name": "python3"
  },
  "language_info": {
   "codemirror_mode": {
    "name": "ipython",
    "version": 3
   },
   "file_extension": ".py",
   "mimetype": "text/x-python",
   "name": "python",
   "nbconvert_exporter": "python",
   "pygments_lexer": "ipython3",
   "version": "3.11.5"
  }
 },
 "nbformat": 4,
 "nbformat_minor": 4
}

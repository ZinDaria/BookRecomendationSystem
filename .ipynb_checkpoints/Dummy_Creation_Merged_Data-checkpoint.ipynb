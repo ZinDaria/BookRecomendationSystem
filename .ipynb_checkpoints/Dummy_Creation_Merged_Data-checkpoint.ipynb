{
 "cells": [
  {
   "cell_type": "markdown",
   "metadata": {},
   "source": [
    "# Creates Dummies files"
   ]
  },
  {
   "cell_type": "markdown",
   "metadata": {},
   "source": [
    "# Import Dependencies"
   ]
  },
  {
   "cell_type": "code",
   "execution_count": 1,
   "metadata": {},
   "outputs": [],
   "source": [
    "import pandas as pd\n",
    "import pickle as pk"
   ]
  },
  {
   "cell_type": "code",
   "execution_count": 2,
   "metadata": {},
   "outputs": [],
   "source": [
    "# define a formula for calculation of average weighted score\n",
    "def average_weighted(row):\n",
    "    min_th=25 #min number of rating received by the book\n",
    "    neutral_score=5\n",
    "    avg_w = ((row['avg_book_rating'] * row['count_book_rating']) + \n",
    "      (min_th * neutral_score))/(row['count_book_rating'] + min_th)\n",
    "    return avg_w"
   ]
  },
  {
   "cell_type": "code",
   "execution_count": 3,
   "metadata": {},
   "outputs": [],
   "source": [
    "# having min_books_rated_by_user and min_rates_received_by_book to define what we treat as statistically significant\n",
    "# remove those records from ratings_df, which have those books with less than min_rates_received_by_book reviews and those users who have left less than min_books_rated_by_user reviews\n",
    "def leave_stat_sign_data(ratings_df, min_books_rated_by_user=5,min_rates_received_by_book=5):\n",
    "    #select only those books which were rated more than min_rates_received_by_book\n",
    "    groupped_r_books=ratings_df.groupby('Book-Title')['User-ID'].count()\n",
    "    titles_with_acceptable_rates_count=list(groupped_r_books[groupped_r_books>min_rates_received_by_book].index)\n",
    "    #select only those users (user_id) who rated more than min_books_rated_by_user books\n",
    "    groupped_r_users=ratings_df.groupby('User-ID')['Book-Rating'].count()\n",
    "    user_ids_with_acceptable_books_count_rated=list(groupped_r_users[groupped_r_users>min_books_rated_by_user].index)\n",
    "    # filter rating-user data to have only books/users of interest (which have highest rates count and rated highest number of books respectively)\n",
    "    rating_final_df=ratings_df[ratings_df['Book-Title'].isin(titles_with_acceptable_rates_count)&ratings_df['User-ID'].isin(user_ids_with_acceptable_books_count_rated)]\n",
    "    return rating_final_df"
   ]
  },
  {
   "cell_type": "code",
   "execution_count": 4,
   "metadata": {},
   "outputs": [
    {
     "name": "stderr",
     "output_type": "stream",
     "text": [
      "/var/folders/3g/t4y_09d901v7s2qw9dqk8jzw0000gn/T/ipykernel_3056/1936971218.py:2: DtypeWarning: Columns (3) have mixed types. Specify dtype option on import or set low_memory=False.\n",
      "  books_df_original = pd.read_csv('./Resources/Books.csv')\n"
     ]
    }
   ],
   "source": [
    "#Creating dataframes from csv files to read the data\n",
    "books_df_original = pd.read_csv('./Resources/Books.csv')\n",
    "ratings_df_original = pd.read_csv('./Resources/Ratings.csv')"
   ]
  },
  {
   "cell_type": "code",
   "execution_count": 5,
   "metadata": {},
   "outputs": [],
   "source": [
    "# remove duplicated books records if any by looking at ISBN\n",
    "books_df=books_df_original.copy()\n",
    "books_df=books_df.drop_duplicates(subset=['ISBN'])"
   ]
  },
  {
   "cell_type": "code",
   "execution_count": 6,
   "metadata": {},
   "outputs": [],
   "source": [
    "# update the datatype of a 'Year-Of-Publication' field to numeric one\n",
    "books_df['Year-Of-Publication']=pd.to_numeric(books_df['Year-Of-Publication'],errors='coerce')\n",
    "# Filter out data with no publication year\n",
    "books_df = books_df[books_df['Year-Of-Publication'] > 0]\n",
    "books_df['Year-Of-Publication']=books_df['Year-Of-Publication'].astype(int)"
   ]
  },
  {
   "cell_type": "code",
   "execution_count": 7,
   "metadata": {},
   "outputs": [],
   "source": [
    "books_df_algo_input=books_df.copy()"
   ]
  },
  {
   "cell_type": "code",
   "execution_count": 8,
   "metadata": {},
   "outputs": [],
   "source": [
    "ratings_df=ratings_df_original.copy()\n",
    "# update the datatype of a 'Book-Rating' field to numeric one\n",
    "ratings_df['Book-Rating']=pd.to_numeric(ratings_df['Book-Rating'],errors='coerce')"
   ]
  },
  {
   "cell_type": "markdown",
   "metadata": {},
   "source": [
    "### Change ISBN with Titles\n",
    "Merge ratings with books data in order to change isbn with title and leave only those ratings data for which we have title info"
   ]
  },
  {
   "cell_type": "code",
   "execution_count": 9,
   "metadata": {},
   "outputs": [
    {
     "data": {
      "text/plain": [
       "Index(['ISBN', 'Book-Title', 'Book-Author', 'Year-Of-Publication', 'Publisher',\n",
       "       'Image-URL-S', 'Image-URL-M', 'Image-URL-L', 'User-ID', 'Book-Rating'],\n",
       "      dtype='object')"
      ]
     },
     "execution_count": 9,
     "metadata": {},
     "output_type": "execute_result"
    }
   ],
   "source": [
    "ratings_df=pd.merge(books_df,ratings_df,on='ISBN', how = 'inner')\n",
    "ratings_df.columns"
   ]
  },
  {
   "cell_type": "code",
   "execution_count": 10,
   "metadata": {},
   "outputs": [],
   "source": [
    "# delete those rows with no book titles or no book rates if any (even though there should no be such as we used inner join above)\n",
    "ratings_df=ratings_df.dropna()\n",
    "ratings_df_all_cols=ratings_df.copy()\n",
    "ratings_df_all_cols=ratings_df_all_cols[['Book-Title','User-ID','Book-Rating','Book-Author','Publisher']]\n",
    "# delete those columns, which we are not going to use within machine learning algos\n",
    "ratings_df=ratings_df.drop(['ISBN','Book-Author','Year-Of-Publication','Publisher','Image-URL-S','Image-URL-M','Image-URL-L'], axis=1)"
   ]
  },
  {
   "cell_type": "code",
   "execution_count": 21,
   "metadata": {},
   "outputs": [
    {
     "data": {
      "text/html": [
       "<div>\n",
       "<style scoped>\n",
       "    .dataframe tbody tr th:only-of-type {\n",
       "        vertical-align: middle;\n",
       "    }\n",
       "\n",
       "    .dataframe tbody tr th {\n",
       "        vertical-align: top;\n",
       "    }\n",
       "\n",
       "    .dataframe thead th {\n",
       "        text-align: right;\n",
       "    }\n",
       "</style>\n",
       "<table border=\"1\" class=\"dataframe\">\n",
       "  <thead>\n",
       "    <tr style=\"text-align: right;\">\n",
       "      <th></th>\n",
       "      <th>Book-Title</th>\n",
       "      <th>User-ID</th>\n",
       "      <th>Book-Rating</th>\n",
       "      <th>Book-Author</th>\n",
       "      <th>Publisher</th>\n",
       "    </tr>\n",
       "  </thead>\n",
       "  <tbody>\n",
       "    <tr>\n",
       "      <th>133850</th>\n",
       "      <td>Kiss Kiss (French Language Edition)</td>\n",
       "      <td>2957</td>\n",
       "      <td>0</td>\n",
       "      <td>Roald Dahl</td>\n",
       "      <td>French and European Pubns</td>\n",
       "    </tr>\n",
       "    <tr>\n",
       "      <th>133851</th>\n",
       "      <td>Kiss Kiss (French Language Edition)</td>\n",
       "      <td>11676</td>\n",
       "      <td>0</td>\n",
       "      <td>Roald Dahl</td>\n",
       "      <td>French and European Pubns</td>\n",
       "    </tr>\n",
       "    <tr>\n",
       "      <th>133852</th>\n",
       "      <td>Kiss Kiss (French Language Edition)</td>\n",
       "      <td>17950</td>\n",
       "      <td>0</td>\n",
       "      <td>Roald Dahl</td>\n",
       "      <td>French and European Pubns</td>\n",
       "    </tr>\n",
       "    <tr>\n",
       "      <th>133853</th>\n",
       "      <td>Kiss Kiss (French Language Edition)</td>\n",
       "      <td>22830</td>\n",
       "      <td>7</td>\n",
       "      <td>Roald Dahl</td>\n",
       "      <td>French and European Pubns</td>\n",
       "    </tr>\n",
       "    <tr>\n",
       "      <th>133854</th>\n",
       "      <td>Kiss Kiss (French Language Edition)</td>\n",
       "      <td>32440</td>\n",
       "      <td>8</td>\n",
       "      <td>Roald Dahl</td>\n",
       "      <td>French and European Pubns</td>\n",
       "    </tr>\n",
       "    <tr>\n",
       "      <th>133855</th>\n",
       "      <td>Kiss Kiss (French Language Edition)</td>\n",
       "      <td>36003</td>\n",
       "      <td>10</td>\n",
       "      <td>Roald Dahl</td>\n",
       "      <td>French and European Pubns</td>\n",
       "    </tr>\n",
       "    <tr>\n",
       "      <th>133856</th>\n",
       "      <td>Kiss Kiss (French Language Edition)</td>\n",
       "      <td>37567</td>\n",
       "      <td>9</td>\n",
       "      <td>Roald Dahl</td>\n",
       "      <td>French and European Pubns</td>\n",
       "    </tr>\n",
       "    <tr>\n",
       "      <th>133857</th>\n",
       "      <td>Kiss Kiss (French Language Edition)</td>\n",
       "      <td>43397</td>\n",
       "      <td>0</td>\n",
       "      <td>Roald Dahl</td>\n",
       "      <td>French and European Pubns</td>\n",
       "    </tr>\n",
       "    <tr>\n",
       "      <th>133858</th>\n",
       "      <td>Kiss Kiss (French Language Edition)</td>\n",
       "      <td>56447</td>\n",
       "      <td>0</td>\n",
       "      <td>Roald Dahl</td>\n",
       "      <td>French and European Pubns</td>\n",
       "    </tr>\n",
       "    <tr>\n",
       "      <th>133859</th>\n",
       "      <td>Kiss Kiss (French Language Edition)</td>\n",
       "      <td>75595</td>\n",
       "      <td>0</td>\n",
       "      <td>Roald Dahl</td>\n",
       "      <td>French and European Pubns</td>\n",
       "    </tr>\n",
       "    <tr>\n",
       "      <th>133860</th>\n",
       "      <td>Kiss Kiss (French Language Edition)</td>\n",
       "      <td>84146</td>\n",
       "      <td>0</td>\n",
       "      <td>Roald Dahl</td>\n",
       "      <td>French and European Pubns</td>\n",
       "    </tr>\n",
       "    <tr>\n",
       "      <th>133861</th>\n",
       "      <td>Kiss Kiss (French Language Edition)</td>\n",
       "      <td>89207</td>\n",
       "      <td>10</td>\n",
       "      <td>Roald Dahl</td>\n",
       "      <td>French and European Pubns</td>\n",
       "    </tr>\n",
       "    <tr>\n",
       "      <th>133862</th>\n",
       "      <td>Kiss Kiss (French Language Edition)</td>\n",
       "      <td>93034</td>\n",
       "      <td>0</td>\n",
       "      <td>Roald Dahl</td>\n",
       "      <td>French and European Pubns</td>\n",
       "    </tr>\n",
       "    <tr>\n",
       "      <th>133863</th>\n",
       "      <td>Kiss Kiss (French Language Edition)</td>\n",
       "      <td>131181</td>\n",
       "      <td>7</td>\n",
       "      <td>Roald Dahl</td>\n",
       "      <td>French and European Pubns</td>\n",
       "    </tr>\n",
       "    <tr>\n",
       "      <th>133864</th>\n",
       "      <td>Kiss Kiss (French Language Edition)</td>\n",
       "      <td>131402</td>\n",
       "      <td>7</td>\n",
       "      <td>Roald Dahl</td>\n",
       "      <td>French and European Pubns</td>\n",
       "    </tr>\n",
       "    <tr>\n",
       "      <th>133865</th>\n",
       "      <td>Kiss Kiss (French Language Edition)</td>\n",
       "      <td>131675</td>\n",
       "      <td>0</td>\n",
       "      <td>Roald Dahl</td>\n",
       "      <td>French and European Pubns</td>\n",
       "    </tr>\n",
       "    <tr>\n",
       "      <th>133866</th>\n",
       "      <td>Kiss Kiss (French Language Edition)</td>\n",
       "      <td>137437</td>\n",
       "      <td>0</td>\n",
       "      <td>Roald Dahl</td>\n",
       "      <td>French and European Pubns</td>\n",
       "    </tr>\n",
       "    <tr>\n",
       "      <th>133867</th>\n",
       "      <td>Kiss Kiss (French Language Edition)</td>\n",
       "      <td>143214</td>\n",
       "      <td>9</td>\n",
       "      <td>Roald Dahl</td>\n",
       "      <td>French and European Pubns</td>\n",
       "    </tr>\n",
       "    <tr>\n",
       "      <th>133868</th>\n",
       "      <td>Kiss Kiss (French Language Edition)</td>\n",
       "      <td>145644</td>\n",
       "      <td>7</td>\n",
       "      <td>Roald Dahl</td>\n",
       "      <td>French and European Pubns</td>\n",
       "    </tr>\n",
       "    <tr>\n",
       "      <th>133869</th>\n",
       "      <td>Kiss Kiss (French Language Edition)</td>\n",
       "      <td>189666</td>\n",
       "      <td>0</td>\n",
       "      <td>Roald Dahl</td>\n",
       "      <td>French and European Pubns</td>\n",
       "    </tr>\n",
       "    <tr>\n",
       "      <th>133870</th>\n",
       "      <td>Kiss Kiss (French Language Edition)</td>\n",
       "      <td>195116</td>\n",
       "      <td>0</td>\n",
       "      <td>Roald Dahl</td>\n",
       "      <td>French and European Pubns</td>\n",
       "    </tr>\n",
       "    <tr>\n",
       "      <th>133871</th>\n",
       "      <td>Kiss Kiss (French Language Edition)</td>\n",
       "      <td>206979</td>\n",
       "      <td>0</td>\n",
       "      <td>Roald Dahl</td>\n",
       "      <td>French and European Pubns</td>\n",
       "    </tr>\n",
       "    <tr>\n",
       "      <th>133872</th>\n",
       "      <td>Kiss Kiss (French Language Edition)</td>\n",
       "      <td>225986</td>\n",
       "      <td>0</td>\n",
       "      <td>Roald Dahl</td>\n",
       "      <td>French and European Pubns</td>\n",
       "    </tr>\n",
       "    <tr>\n",
       "      <th>133873</th>\n",
       "      <td>Kiss Kiss (French Language Edition)</td>\n",
       "      <td>231430</td>\n",
       "      <td>6</td>\n",
       "      <td>Roald Dahl</td>\n",
       "      <td>French and European Pubns</td>\n",
       "    </tr>\n",
       "    <tr>\n",
       "      <th>133874</th>\n",
       "      <td>Kiss Kiss (French Language Edition)</td>\n",
       "      <td>233426</td>\n",
       "      <td>9</td>\n",
       "      <td>Roald Dahl</td>\n",
       "      <td>French and European Pubns</td>\n",
       "    </tr>\n",
       "    <tr>\n",
       "      <th>133875</th>\n",
       "      <td>Kiss Kiss (French Language Edition)</td>\n",
       "      <td>246617</td>\n",
       "      <td>7</td>\n",
       "      <td>Roald Dahl</td>\n",
       "      <td>French and European Pubns</td>\n",
       "    </tr>\n",
       "    <tr>\n",
       "      <th>133876</th>\n",
       "      <td>Kiss Kiss (French Language Edition)</td>\n",
       "      <td>257488</td>\n",
       "      <td>8</td>\n",
       "      <td>Roald Dahl</td>\n",
       "      <td>French and European Pubns</td>\n",
       "    </tr>\n",
       "  </tbody>\n",
       "</table>\n",
       "</div>"
      ],
      "text/plain": [
       "                                 Book-Title  User-ID  Book-Rating Book-Author  \\\n",
       "133850  Kiss Kiss (French Language Edition)     2957            0  Roald Dahl   \n",
       "133851  Kiss Kiss (French Language Edition)    11676            0  Roald Dahl   \n",
       "133852  Kiss Kiss (French Language Edition)    17950            0  Roald Dahl   \n",
       "133853  Kiss Kiss (French Language Edition)    22830            7  Roald Dahl   \n",
       "133854  Kiss Kiss (French Language Edition)    32440            8  Roald Dahl   \n",
       "133855  Kiss Kiss (French Language Edition)    36003           10  Roald Dahl   \n",
       "133856  Kiss Kiss (French Language Edition)    37567            9  Roald Dahl   \n",
       "133857  Kiss Kiss (French Language Edition)    43397            0  Roald Dahl   \n",
       "133858  Kiss Kiss (French Language Edition)    56447            0  Roald Dahl   \n",
       "133859  Kiss Kiss (French Language Edition)    75595            0  Roald Dahl   \n",
       "133860  Kiss Kiss (French Language Edition)    84146            0  Roald Dahl   \n",
       "133861  Kiss Kiss (French Language Edition)    89207           10  Roald Dahl   \n",
       "133862  Kiss Kiss (French Language Edition)    93034            0  Roald Dahl   \n",
       "133863  Kiss Kiss (French Language Edition)   131181            7  Roald Dahl   \n",
       "133864  Kiss Kiss (French Language Edition)   131402            7  Roald Dahl   \n",
       "133865  Kiss Kiss (French Language Edition)   131675            0  Roald Dahl   \n",
       "133866  Kiss Kiss (French Language Edition)   137437            0  Roald Dahl   \n",
       "133867  Kiss Kiss (French Language Edition)   143214            9  Roald Dahl   \n",
       "133868  Kiss Kiss (French Language Edition)   145644            7  Roald Dahl   \n",
       "133869  Kiss Kiss (French Language Edition)   189666            0  Roald Dahl   \n",
       "133870  Kiss Kiss (French Language Edition)   195116            0  Roald Dahl   \n",
       "133871  Kiss Kiss (French Language Edition)   206979            0  Roald Dahl   \n",
       "133872  Kiss Kiss (French Language Edition)   225986            0  Roald Dahl   \n",
       "133873  Kiss Kiss (French Language Edition)   231430            6  Roald Dahl   \n",
       "133874  Kiss Kiss (French Language Edition)   233426            9  Roald Dahl   \n",
       "133875  Kiss Kiss (French Language Edition)   246617            7  Roald Dahl   \n",
       "133876  Kiss Kiss (French Language Edition)   257488            8  Roald Dahl   \n",
       "\n",
       "                        Publisher  \n",
       "133850  French and European Pubns  \n",
       "133851  French and European Pubns  \n",
       "133852  French and European Pubns  \n",
       "133853  French and European Pubns  \n",
       "133854  French and European Pubns  \n",
       "133855  French and European Pubns  \n",
       "133856  French and European Pubns  \n",
       "133857  French and European Pubns  \n",
       "133858  French and European Pubns  \n",
       "133859  French and European Pubns  \n",
       "133860  French and European Pubns  \n",
       "133861  French and European Pubns  \n",
       "133862  French and European Pubns  \n",
       "133863  French and European Pubns  \n",
       "133864  French and European Pubns  \n",
       "133865  French and European Pubns  \n",
       "133866  French and European Pubns  \n",
       "133867  French and European Pubns  \n",
       "133868  French and European Pubns  \n",
       "133869  French and European Pubns  \n",
       "133870  French and European Pubns  \n",
       "133871  French and European Pubns  \n",
       "133872  French and European Pubns  \n",
       "133873  French and European Pubns  \n",
       "133874  French and European Pubns  \n",
       "133875  French and European Pubns  \n",
       "133876  French and European Pubns  "
      ]
     },
     "execution_count": 21,
     "metadata": {},
     "output_type": "execute_result"
    }
   ],
   "source": [
    "ratings_df_all_cols['Publisher']=ratings_df_all_cols['Publisher'].str.replace('&amp;', 'and')\n",
    "ratings_df_all_cols['Book-Author']=ratings_df_all_cols['Book-Author'].str.replace('Ã©', 'é')"
   ]
  },
  {
   "cell_type": "code",
   "execution_count": 12,
   "metadata": {},
   "outputs": [],
   "source": [
    "ratings_df_algo_input=ratings_df.copy()"
   ]
  },
  {
   "cell_type": "code",
   "execution_count": 13,
   "metadata": {},
   "outputs": [],
   "source": [
    "# Filter out data with zero ratings\n",
    "ratings_df_no_zeros = ratings_df[ratings_df['Book-Rating'] != 0]"
   ]
  },
  {
   "cell_type": "code",
   "execution_count": 14,
   "metadata": {},
   "outputs": [],
   "source": [
    "# As an alternative to the above update 0 scores with weighted averages"
   ]
  },
  {
   "cell_type": "code",
   "execution_count": 15,
   "metadata": {},
   "outputs": [],
   "source": [
    "# find average score per each book (only take non-zero into account)\n",
    "avg_ratings_scored = ratings_df[ratings_df['Book-Rating'] > 0].groupby('Book-Title')['Book-Rating'].mean()\n",
    "# count of non-zero rating given per book\n",
    "count_ratings_scored = ratings_df[ratings_df['Book-Rating'] > 0].groupby('Book-Title')['Book-Rating'].count()\n",
    "# create dataframe with above data (average and count) per book\n",
    "average_weighted_df=pd.DataFrame(avg_ratings_scored).rename(columns={'Book-Rating':'avg_book_rating'})\n",
    "count_ratings_scored_df=pd.DataFrame(count_ratings_scored).rename(columns={'Book-Rating':'count_book_rating'})\n",
    "average_weighted_df=pd.merge(average_weighted_df,count_ratings_scored_df,  on='Book-Title', how='inner')\n",
    "average_weighted_df=average_weighted_df.sort_values(by='count_book_rating', ascending=False)\n",
    "# find average weighted per book\n",
    "average_weighted_df['avg_weighted']=average_weighted_df.apply(average_weighted, axis=1)\n",
    "# update zero rating values with average weighted\n",
    "ratings_df_adj=ratings_df.copy()\n",
    "ratings_df_adj.loc[ratings_df_adj['Book-Rating'] == 0, 'Book-Rating'] = ratings_df_adj.loc[ratings_df_adj['Book-Rating'] == 0].index.map(average_weighted_df['avg_weighted'])\n",
    "# Filter out data with n/a rating score after mapping, as there could be books with only 0 scores\n",
    "ratings_df_adj=ratings_df_adj.dropna(subset=['Book-Rating'])"
   ]
  },
  {
   "cell_type": "code",
   "execution_count": 16,
   "metadata": {},
   "outputs": [],
   "source": [
    "# Use avg rate per duplicates set for three: ratings_df, ratings_df_adj and ratings_df_no_zeros\n",
    "ratings_df_original=ratings_df.groupby(['Book-Title','User-ID'])['Book-Rating'].mean().reset_index()\n",
    "ratings_df_mean=ratings_df_adj.groupby(['Book-Title','User-ID'])['Book-Rating'].mean().reset_index()\n",
    "ratings_df_no_zeros=ratings_df_no_zeros.groupby(['Book-Title','User-ID'])['Book-Rating'].mean().reset_index()"
   ]
  },
  {
   "cell_type": "code",
   "execution_count": 17,
   "metadata": {},
   "outputs": [],
   "source": [
    "# leave only statistically significant data for both ratings_df_adj and ratings_df_no_zeros\n",
    "rating_final_original_df=leave_stat_sign_data(ratings_df_original)\n",
    "rating_final_mean_df=leave_stat_sign_data(ratings_df_adj)\n",
    "rating_final_no_zeros_df=leave_stat_sign_data(ratings_df_no_zeros)"
   ]
  },
  {
   "cell_type": "code",
   "execution_count": 18,
   "metadata": {},
   "outputs": [],
   "source": [
    "pk.dump(ratings_df_all_cols,open('ratings_df_all_cols.pkl','wb'))"
   ]
  },
  {
   "cell_type": "code",
   "execution_count": 19,
   "metadata": {},
   "outputs": [],
   "source": [
    "pk.dump(ratings_df_algo_input,open('ratings_df_algo_input.pkl','wb'))\n",
    "pk.dump(books_df_algo_input,open('books_df_algo_input.pkl','wb'))"
   ]
  }
 ],
 "metadata": {
  "anaconda-cloud": {},
  "kernelspec": {
   "display_name": "Python 3 (ipykernel)",
   "language": "python",
   "name": "python3"
  },
  "language_info": {
   "codemirror_mode": {
    "name": "ipython",
    "version": 3
   },
   "file_extension": ".py",
   "mimetype": "text/x-python",
   "name": "python",
   "nbconvert_exporter": "python",
   "pygments_lexer": "ipython3",
   "version": "3.11.5"
  }
 },
 "nbformat": 4,
 "nbformat_minor": 4
}

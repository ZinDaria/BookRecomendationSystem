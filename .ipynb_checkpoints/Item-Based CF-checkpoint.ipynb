{
 "cells": [
  {
   "cell_type": "code",
   "execution_count": 1,
   "id": "51504d2b",
   "metadata": {},
   "outputs": [],
   "source": [
    "# Dependencies and Setup\n",
    "import pandas as pd\n",
    "import numpy as np\n",
    "from scipy.sparse import csr_matrix\n",
    "from sklearn.neighbors import NearestNeighbors\n",
    "import matplotlib.pyplot as plt"
   ]
  },
  {
   "cell_type": "code",
   "execution_count": 2,
   "id": "3839fc1c",
   "metadata": {},
   "outputs": [
    {
     "data": {
      "text/html": [
       "<div>\n",
       "<style scoped>\n",
       "    .dataframe tbody tr th:only-of-type {\n",
       "        vertical-align: middle;\n",
       "    }\n",
       "\n",
       "    .dataframe tbody tr th {\n",
       "        vertical-align: top;\n",
       "    }\n",
       "\n",
       "    .dataframe thead th {\n",
       "        text-align: right;\n",
       "    }\n",
       "</style>\n",
       "<table border=\"1\" class=\"dataframe\">\n",
       "  <thead>\n",
       "    <tr style=\"text-align: right;\">\n",
       "      <th></th>\n",
       "      <th>ISBN</th>\n",
       "      <th>Book-Title</th>\n",
       "      <th>Book-Author</th>\n",
       "      <th>Year-Of-Publication</th>\n",
       "      <th>Publisher</th>\n",
       "      <th>User-ID</th>\n",
       "      <th>Book-Rating</th>\n",
       "    </tr>\n",
       "  </thead>\n",
       "  <tbody>\n",
       "    <tr>\n",
       "      <th>0</th>\n",
       "      <td>0195153448</td>\n",
       "      <td>Classical Mythology</td>\n",
       "      <td>Mark P. O. Morford</td>\n",
       "      <td>2002</td>\n",
       "      <td>Oxford University Press</td>\n",
       "      <td>NaN</td>\n",
       "      <td>NaN</td>\n",
       "    </tr>\n",
       "    <tr>\n",
       "      <th>1</th>\n",
       "      <td>0002005018</td>\n",
       "      <td>Clara Callan</td>\n",
       "      <td>Richard Bruce Wright</td>\n",
       "      <td>2001</td>\n",
       "      <td>HarperFlamingo Canada</td>\n",
       "      <td>8.0</td>\n",
       "      <td>5.0</td>\n",
       "    </tr>\n",
       "    <tr>\n",
       "      <th>2</th>\n",
       "      <td>0002005018</td>\n",
       "      <td>Clara Callan</td>\n",
       "      <td>Richard Bruce Wright</td>\n",
       "      <td>2001</td>\n",
       "      <td>HarperFlamingo Canada</td>\n",
       "      <td>11676.0</td>\n",
       "      <td>8.0</td>\n",
       "    </tr>\n",
       "    <tr>\n",
       "      <th>3</th>\n",
       "      <td>0002005018</td>\n",
       "      <td>Clara Callan</td>\n",
       "      <td>Richard Bruce Wright</td>\n",
       "      <td>2001</td>\n",
       "      <td>HarperFlamingo Canada</td>\n",
       "      <td>67544.0</td>\n",
       "      <td>8.0</td>\n",
       "    </tr>\n",
       "    <tr>\n",
       "      <th>4</th>\n",
       "      <td>0002005018</td>\n",
       "      <td>Clara Callan</td>\n",
       "      <td>Richard Bruce Wright</td>\n",
       "      <td>2001</td>\n",
       "      <td>HarperFlamingo Canada</td>\n",
       "      <td>116866.0</td>\n",
       "      <td>9.0</td>\n",
       "    </tr>\n",
       "  </tbody>\n",
       "</table>\n",
       "</div>"
      ],
      "text/plain": [
       "         ISBN           Book-Title           Book-Author Year-Of-Publication  \\\n",
       "0  0195153448  Classical Mythology    Mark P. O. Morford                2002   \n",
       "1  0002005018         Clara Callan  Richard Bruce Wright                2001   \n",
       "2  0002005018         Clara Callan  Richard Bruce Wright                2001   \n",
       "3  0002005018         Clara Callan  Richard Bruce Wright                2001   \n",
       "4  0002005018         Clara Callan  Richard Bruce Wright                2001   \n",
       "\n",
       "                 Publisher   User-ID  Book-Rating  \n",
       "0  Oxford University Press       NaN          NaN  \n",
       "1    HarperFlamingo Canada       8.0          5.0  \n",
       "2    HarperFlamingo Canada   11676.0          8.0  \n",
       "3    HarperFlamingo Canada   67544.0          8.0  \n",
       "4    HarperFlamingo Canada  116866.0          9.0  "
      ]
     },
     "execution_count": 2,
     "metadata": {},
     "output_type": "execute_result"
    }
   ],
   "source": [
    "# Read the books and the ratings data\n",
    "books = pd.read_csv(\"./Resources/Books.csv\", low_memory = False)\n",
    "ratings = pd.read_csv(\"./Resources/Ratings.csv\", low_memory = False)\n",
    "\n",
    "#Combine both into a single DataFrame\n",
    "book_ratings = books.merge(ratings, how = \"outer\", on = \"ISBN\")\n",
    "\n",
    "# Display data for preview\n",
    "book_ratings.head()"
   ]
  },
  {
   "cell_type": "code",
   "execution_count": 3,
   "id": "a0dba3bf",
   "metadata": {},
   "outputs": [
    {
     "data": {
      "text/plain": [
       "ISBN                    object\n",
       "Book-Title              object\n",
       "Book-Author             object\n",
       "Year-Of-Publication     object\n",
       "Publisher               object\n",
       "User-ID                float64\n",
       "Book-Rating            float64\n",
       "dtype: object"
      ]
     },
     "execution_count": 3,
     "metadata": {},
     "output_type": "execute_result"
    }
   ],
   "source": [
    "book_ratings.dtypes"
   ]
  },
  {
   "cell_type": "code",
   "execution_count": 4,
   "id": "d3b026a4",
   "metadata": {},
   "outputs": [
    {
     "data": {
      "text/plain": [
       "ISBN                   555195\n",
       "Book-Title             505366\n",
       "Book-Author            505365\n",
       "Year-Of-Publication    505366\n",
       "Publisher              505364\n",
       "User-ID                433671\n",
       "Book-Rating            433671\n",
       "dtype: int64"
      ]
     },
     "execution_count": 4,
     "metadata": {},
     "output_type": "execute_result"
    }
   ],
   "source": [
    "book_ratings.count()"
   ]
  },
  {
   "cell_type": "code",
   "execution_count": 5,
   "id": "7f4294ab",
   "metadata": {},
   "outputs": [],
   "source": [
    "book_ratings = book_ratings.dropna(how = \"any\")"
   ]
  },
  {
   "cell_type": "code",
   "execution_count": 6,
   "id": "90fbf73b",
   "metadata": {},
   "outputs": [
    {
     "data": {
      "text/plain": [
       "ISBN                   383839\n",
       "Book-Title             383839\n",
       "Book-Author            383839\n",
       "Year-Of-Publication    383839\n",
       "Publisher              383839\n",
       "User-ID                383839\n",
       "Book-Rating            383839\n",
       "dtype: int64"
      ]
     },
     "execution_count": 6,
     "metadata": {},
     "output_type": "execute_result"
    }
   ],
   "source": [
    "book_ratings.count()"
   ]
  },
  {
   "cell_type": "code",
   "execution_count": 7,
   "id": "f94e3794",
   "metadata": {},
   "outputs": [
    {
     "data": {
      "text/html": [
       "<div>\n",
       "<style scoped>\n",
       "    .dataframe tbody tr th:only-of-type {\n",
       "        vertical-align: middle;\n",
       "    }\n",
       "\n",
       "    .dataframe tbody tr th {\n",
       "        vertical-align: top;\n",
       "    }\n",
       "\n",
       "    .dataframe thead th {\n",
       "        text-align: right;\n",
       "    }\n",
       "</style>\n",
       "<table border=\"1\" class=\"dataframe\">\n",
       "  <thead>\n",
       "    <tr style=\"text-align: right;\">\n",
       "      <th></th>\n",
       "      <th>ISBN</th>\n",
       "      <th>Book-Title</th>\n",
       "      <th>Book-Author</th>\n",
       "      <th>Year-Of-Publication</th>\n",
       "      <th>Publisher</th>\n",
       "      <th>User-ID</th>\n",
       "      <th>Book-Rating</th>\n",
       "    </tr>\n",
       "  </thead>\n",
       "  <tbody>\n",
       "    <tr>\n",
       "      <th>1</th>\n",
       "      <td>0002005018</td>\n",
       "      <td>Clara Callan</td>\n",
       "      <td>Richard Bruce Wright</td>\n",
       "      <td>2001</td>\n",
       "      <td>HarperFlamingo Canada</td>\n",
       "      <td>8.0</td>\n",
       "      <td>5.0</td>\n",
       "    </tr>\n",
       "    <tr>\n",
       "      <th>2</th>\n",
       "      <td>0002005018</td>\n",
       "      <td>Clara Callan</td>\n",
       "      <td>Richard Bruce Wright</td>\n",
       "      <td>2001</td>\n",
       "      <td>HarperFlamingo Canada</td>\n",
       "      <td>11676.0</td>\n",
       "      <td>8.0</td>\n",
       "    </tr>\n",
       "    <tr>\n",
       "      <th>3</th>\n",
       "      <td>0002005018</td>\n",
       "      <td>Clara Callan</td>\n",
       "      <td>Richard Bruce Wright</td>\n",
       "      <td>2001</td>\n",
       "      <td>HarperFlamingo Canada</td>\n",
       "      <td>67544.0</td>\n",
       "      <td>8.0</td>\n",
       "    </tr>\n",
       "    <tr>\n",
       "      <th>4</th>\n",
       "      <td>0002005018</td>\n",
       "      <td>Clara Callan</td>\n",
       "      <td>Richard Bruce Wright</td>\n",
       "      <td>2001</td>\n",
       "      <td>HarperFlamingo Canada</td>\n",
       "      <td>116866.0</td>\n",
       "      <td>9.0</td>\n",
       "    </tr>\n",
       "    <tr>\n",
       "      <th>5</th>\n",
       "      <td>0002005018</td>\n",
       "      <td>Clara Callan</td>\n",
       "      <td>Richard Bruce Wright</td>\n",
       "      <td>2001</td>\n",
       "      <td>HarperFlamingo Canada</td>\n",
       "      <td>123629.0</td>\n",
       "      <td>9.0</td>\n",
       "    </tr>\n",
       "    <tr>\n",
       "      <th>...</th>\n",
       "      <td>...</td>\n",
       "      <td>...</td>\n",
       "      <td>...</td>\n",
       "      <td>...</td>\n",
       "      <td>...</td>\n",
       "      <td>...</td>\n",
       "      <td>...</td>\n",
       "    </tr>\n",
       "    <tr>\n",
       "      <th>505352</th>\n",
       "      <td>0395264707</td>\n",
       "      <td>Dreamsnake</td>\n",
       "      <td>Vonda N. McIntyre</td>\n",
       "      <td>1978</td>\n",
       "      <td>Houghton Mifflin</td>\n",
       "      <td>275318.0</td>\n",
       "      <td>10.0</td>\n",
       "    </tr>\n",
       "    <tr>\n",
       "      <th>505358</th>\n",
       "      <td>1845170423</td>\n",
       "      <td>Cocktail Classics</td>\n",
       "      <td>David Biggs</td>\n",
       "      <td>2004</td>\n",
       "      <td>Connaught</td>\n",
       "      <td>275970.0</td>\n",
       "      <td>7.0</td>\n",
       "    </tr>\n",
       "    <tr>\n",
       "      <th>505360</th>\n",
       "      <td>0449906736</td>\n",
       "      <td>Flashpoints: Promise and Peril in a New World</td>\n",
       "      <td>Robin Wright</td>\n",
       "      <td>1993</td>\n",
       "      <td>Ballantine Books</td>\n",
       "      <td>276313.0</td>\n",
       "      <td>5.0</td>\n",
       "    </tr>\n",
       "    <tr>\n",
       "      <th>505361</th>\n",
       "      <td>0440400988</td>\n",
       "      <td>There's a Bat in Bunk Five</td>\n",
       "      <td>Paula Danziger</td>\n",
       "      <td>1988</td>\n",
       "      <td>Random House Childrens Pub (Mm)</td>\n",
       "      <td>276463.0</td>\n",
       "      <td>7.0</td>\n",
       "    </tr>\n",
       "    <tr>\n",
       "      <th>505362</th>\n",
       "      <td>0525447644</td>\n",
       "      <td>From One to One Hundred</td>\n",
       "      <td>Teri Sloat</td>\n",
       "      <td>1991</td>\n",
       "      <td>Dutton Books</td>\n",
       "      <td>276579.0</td>\n",
       "      <td>4.0</td>\n",
       "    </tr>\n",
       "  </tbody>\n",
       "</table>\n",
       "<p>383839 rows × 7 columns</p>\n",
       "</div>"
      ],
      "text/plain": [
       "              ISBN                                     Book-Title  \\\n",
       "1       0002005018                                   Clara Callan   \n",
       "2       0002005018                                   Clara Callan   \n",
       "3       0002005018                                   Clara Callan   \n",
       "4       0002005018                                   Clara Callan   \n",
       "5       0002005018                                   Clara Callan   \n",
       "...            ...                                            ...   \n",
       "505352  0395264707                                     Dreamsnake   \n",
       "505358  1845170423                              Cocktail Classics   \n",
       "505360  0449906736  Flashpoints: Promise and Peril in a New World   \n",
       "505361  0440400988                     There's a Bat in Bunk Five   \n",
       "505362  0525447644                        From One to One Hundred   \n",
       "\n",
       "                 Book-Author Year-Of-Publication  \\\n",
       "1       Richard Bruce Wright                2001   \n",
       "2       Richard Bruce Wright                2001   \n",
       "3       Richard Bruce Wright                2001   \n",
       "4       Richard Bruce Wright                2001   \n",
       "5       Richard Bruce Wright                2001   \n",
       "...                      ...                 ...   \n",
       "505352     Vonda N. McIntyre                1978   \n",
       "505358           David Biggs                2004   \n",
       "505360          Robin Wright                1993   \n",
       "505361        Paula Danziger                1988   \n",
       "505362            Teri Sloat                1991   \n",
       "\n",
       "                              Publisher   User-ID  Book-Rating  \n",
       "1                 HarperFlamingo Canada       8.0          5.0  \n",
       "2                 HarperFlamingo Canada   11676.0          8.0  \n",
       "3                 HarperFlamingo Canada   67544.0          8.0  \n",
       "4                 HarperFlamingo Canada  116866.0          9.0  \n",
       "5                 HarperFlamingo Canada  123629.0          9.0  \n",
       "...                                 ...       ...          ...  \n",
       "505352                 Houghton Mifflin  275318.0         10.0  \n",
       "505358                        Connaught  275970.0          7.0  \n",
       "505360                 Ballantine Books  276313.0          5.0  \n",
       "505361  Random House Childrens Pub (Mm)  276463.0          7.0  \n",
       "505362                     Dutton Books  276579.0          4.0  \n",
       "\n",
       "[383839 rows x 7 columns]"
      ]
     },
     "execution_count": 7,
     "metadata": {},
     "output_type": "execute_result"
    }
   ],
   "source": [
    "book_ratings"
   ]
  },
  {
   "cell_type": "code",
   "execution_count": 8,
   "id": "6f76ec96",
   "metadata": {},
   "outputs": [],
   "source": [
    "book_ratings[\"User-ID\"] = pd.to_numeric(book_ratings[\"User-ID\"], errors='coerce')"
   ]
  },
  {
   "cell_type": "code",
   "execution_count": 9,
   "id": "2e92634a",
   "metadata": {},
   "outputs": [],
   "source": [
    "book_ratings[\"User-ID\"] = book_ratings[\"User-ID\"].astype(int)"
   ]
  },
  {
   "cell_type": "code",
   "execution_count": 10,
   "id": "0f6e6f1f",
   "metadata": {},
   "outputs": [
    {
     "data": {
      "text/html": [
       "<div>\n",
       "<style scoped>\n",
       "    .dataframe tbody tr th:only-of-type {\n",
       "        vertical-align: middle;\n",
       "    }\n",
       "\n",
       "    .dataframe tbody tr th {\n",
       "        vertical-align: top;\n",
       "    }\n",
       "\n",
       "    .dataframe thead th {\n",
       "        text-align: right;\n",
       "    }\n",
       "</style>\n",
       "<table border=\"1\" class=\"dataframe\">\n",
       "  <thead>\n",
       "    <tr style=\"text-align: right;\">\n",
       "      <th></th>\n",
       "      <th>ISBN</th>\n",
       "      <th>Book-Title</th>\n",
       "      <th>Book-Author</th>\n",
       "      <th>Year-Of-Publication</th>\n",
       "      <th>Publisher</th>\n",
       "      <th>User-ID</th>\n",
       "      <th>Book-Rating</th>\n",
       "    </tr>\n",
       "  </thead>\n",
       "  <tbody>\n",
       "    <tr>\n",
       "      <th>1</th>\n",
       "      <td>0002005018</td>\n",
       "      <td>Clara Callan</td>\n",
       "      <td>Richard Bruce Wright</td>\n",
       "      <td>2001</td>\n",
       "      <td>HarperFlamingo Canada</td>\n",
       "      <td>8</td>\n",
       "      <td>5.0</td>\n",
       "    </tr>\n",
       "    <tr>\n",
       "      <th>2</th>\n",
       "      <td>0002005018</td>\n",
       "      <td>Clara Callan</td>\n",
       "      <td>Richard Bruce Wright</td>\n",
       "      <td>2001</td>\n",
       "      <td>HarperFlamingo Canada</td>\n",
       "      <td>11676</td>\n",
       "      <td>8.0</td>\n",
       "    </tr>\n",
       "    <tr>\n",
       "      <th>3</th>\n",
       "      <td>0002005018</td>\n",
       "      <td>Clara Callan</td>\n",
       "      <td>Richard Bruce Wright</td>\n",
       "      <td>2001</td>\n",
       "      <td>HarperFlamingo Canada</td>\n",
       "      <td>67544</td>\n",
       "      <td>8.0</td>\n",
       "    </tr>\n",
       "    <tr>\n",
       "      <th>4</th>\n",
       "      <td>0002005018</td>\n",
       "      <td>Clara Callan</td>\n",
       "      <td>Richard Bruce Wright</td>\n",
       "      <td>2001</td>\n",
       "      <td>HarperFlamingo Canada</td>\n",
       "      <td>116866</td>\n",
       "      <td>9.0</td>\n",
       "    </tr>\n",
       "    <tr>\n",
       "      <th>5</th>\n",
       "      <td>0002005018</td>\n",
       "      <td>Clara Callan</td>\n",
       "      <td>Richard Bruce Wright</td>\n",
       "      <td>2001</td>\n",
       "      <td>HarperFlamingo Canada</td>\n",
       "      <td>123629</td>\n",
       "      <td>9.0</td>\n",
       "    </tr>\n",
       "    <tr>\n",
       "      <th>...</th>\n",
       "      <td>...</td>\n",
       "      <td>...</td>\n",
       "      <td>...</td>\n",
       "      <td>...</td>\n",
       "      <td>...</td>\n",
       "      <td>...</td>\n",
       "      <td>...</td>\n",
       "    </tr>\n",
       "    <tr>\n",
       "      <th>505352</th>\n",
       "      <td>0395264707</td>\n",
       "      <td>Dreamsnake</td>\n",
       "      <td>Vonda N. McIntyre</td>\n",
       "      <td>1978</td>\n",
       "      <td>Houghton Mifflin</td>\n",
       "      <td>275318</td>\n",
       "      <td>10.0</td>\n",
       "    </tr>\n",
       "    <tr>\n",
       "      <th>505358</th>\n",
       "      <td>1845170423</td>\n",
       "      <td>Cocktail Classics</td>\n",
       "      <td>David Biggs</td>\n",
       "      <td>2004</td>\n",
       "      <td>Connaught</td>\n",
       "      <td>275970</td>\n",
       "      <td>7.0</td>\n",
       "    </tr>\n",
       "    <tr>\n",
       "      <th>505360</th>\n",
       "      <td>0449906736</td>\n",
       "      <td>Flashpoints: Promise and Peril in a New World</td>\n",
       "      <td>Robin Wright</td>\n",
       "      <td>1993</td>\n",
       "      <td>Ballantine Books</td>\n",
       "      <td>276313</td>\n",
       "      <td>5.0</td>\n",
       "    </tr>\n",
       "    <tr>\n",
       "      <th>505361</th>\n",
       "      <td>0440400988</td>\n",
       "      <td>There's a Bat in Bunk Five</td>\n",
       "      <td>Paula Danziger</td>\n",
       "      <td>1988</td>\n",
       "      <td>Random House Childrens Pub (Mm)</td>\n",
       "      <td>276463</td>\n",
       "      <td>7.0</td>\n",
       "    </tr>\n",
       "    <tr>\n",
       "      <th>505362</th>\n",
       "      <td>0525447644</td>\n",
       "      <td>From One to One Hundred</td>\n",
       "      <td>Teri Sloat</td>\n",
       "      <td>1991</td>\n",
       "      <td>Dutton Books</td>\n",
       "      <td>276579</td>\n",
       "      <td>4.0</td>\n",
       "    </tr>\n",
       "  </tbody>\n",
       "</table>\n",
       "<p>383839 rows × 7 columns</p>\n",
       "</div>"
      ],
      "text/plain": [
       "              ISBN                                     Book-Title  \\\n",
       "1       0002005018                                   Clara Callan   \n",
       "2       0002005018                                   Clara Callan   \n",
       "3       0002005018                                   Clara Callan   \n",
       "4       0002005018                                   Clara Callan   \n",
       "5       0002005018                                   Clara Callan   \n",
       "...            ...                                            ...   \n",
       "505352  0395264707                                     Dreamsnake   \n",
       "505358  1845170423                              Cocktail Classics   \n",
       "505360  0449906736  Flashpoints: Promise and Peril in a New World   \n",
       "505361  0440400988                     There's a Bat in Bunk Five   \n",
       "505362  0525447644                        From One to One Hundred   \n",
       "\n",
       "                 Book-Author Year-Of-Publication  \\\n",
       "1       Richard Bruce Wright                2001   \n",
       "2       Richard Bruce Wright                2001   \n",
       "3       Richard Bruce Wright                2001   \n",
       "4       Richard Bruce Wright                2001   \n",
       "5       Richard Bruce Wright                2001   \n",
       "...                      ...                 ...   \n",
       "505352     Vonda N. McIntyre                1978   \n",
       "505358           David Biggs                2004   \n",
       "505360          Robin Wright                1993   \n",
       "505361        Paula Danziger                1988   \n",
       "505362            Teri Sloat                1991   \n",
       "\n",
       "                              Publisher  User-ID  Book-Rating  \n",
       "1                 HarperFlamingo Canada        8          5.0  \n",
       "2                 HarperFlamingo Canada    11676          8.0  \n",
       "3                 HarperFlamingo Canada    67544          8.0  \n",
       "4                 HarperFlamingo Canada   116866          9.0  \n",
       "5                 HarperFlamingo Canada   123629          9.0  \n",
       "...                                 ...      ...          ...  \n",
       "505352                 Houghton Mifflin   275318         10.0  \n",
       "505358                        Connaught   275970          7.0  \n",
       "505360                 Ballantine Books   276313          5.0  \n",
       "505361  Random House Childrens Pub (Mm)   276463          7.0  \n",
       "505362                     Dutton Books   276579          4.0  \n",
       "\n",
       "[383839 rows x 7 columns]"
      ]
     },
     "execution_count": 10,
     "metadata": {},
     "output_type": "execute_result"
    }
   ],
   "source": [
    "book_ratings"
   ]
  },
  {
   "cell_type": "code",
   "execution_count": 11,
   "id": "91d17c4f",
   "metadata": {},
   "outputs": [],
   "source": [
    "book_ratings = book_ratings.reset_index()"
   ]
  },
  {
   "cell_type": "code",
   "execution_count": 12,
   "id": "8a4b180c",
   "metadata": {},
   "outputs": [
    {
     "data": {
      "text/plain": [
       "index                  383839\n",
       "ISBN                   149833\n",
       "Book-Title             135565\n",
       "Book-Author             62112\n",
       "Year-Of-Publication       106\n",
       "Publisher               11574\n",
       "User-ID                 68091\n",
       "Book-Rating                10\n",
       "dtype: int64"
      ]
     },
     "execution_count": 12,
     "metadata": {},
     "output_type": "execute_result"
    }
   ],
   "source": [
    "book_ratings.nunique()"
   ]
  },
  {
   "cell_type": "code",
   "execution_count": 13,
   "id": "ace6524d",
   "metadata": {},
   "outputs": [],
   "source": [
    "# Use Label Encoding from scikit-learn to encode ISBNs which are categorical\n",
    "from sklearn.preprocessing import LabelEncoder\n",
    "\n",
    "isbn_encoder = LabelEncoder()\n",
    "book_ratings[\"ISBN_encoded\"] = isbn_encoder.fit_transform(book_ratings[\"ISBN\"])\n",
    "\n",
    "# Reverse the encoding - we will use this to reverse the encoding later if needed\n",
    "# book_ratings['ISBN_decoded'] = isbn_encoder.inverse_transform(book_ratings['ISBN_encoded'])"
   ]
  },
  {
   "cell_type": "code",
   "execution_count": 34,
   "id": "dc81def5",
   "metadata": {},
   "outputs": [
    {
     "data": {
      "text/plain": [
       "index                    int64\n",
       "ISBN                    object\n",
       "Book-Title              object\n",
       "Book-Author             object\n",
       "Year-Of-Publication     object\n",
       "Publisher               object\n",
       "User-ID                  int32\n",
       "Book-Rating            float64\n",
       "ISBN_encoded             int32\n",
       "dtype: object"
      ]
     },
     "execution_count": 34,
     "metadata": {},
     "output_type": "execute_result"
    }
   ],
   "source": [
    "book_ratings.dtypes"
   ]
  },
  {
   "cell_type": "code",
   "execution_count": 30,
   "id": "b3925fe2",
   "metadata": {},
   "outputs": [
    {
     "data": {
      "text/plain": [
       "<pandas.core.indexing._LocIndexer at 0x16759b1dfe0>"
      ]
     },
     "metadata": {},
     "output_type": "display_data"
    }
   ],
   "source": [
    "display(book_ratings.loc([\"ISBN_encoded\"] == \"074322678X\"))\n"
   ]
  },
  {
   "cell_type": "code",
   "execution_count": 15,
   "id": "fba5c807",
   "metadata": {},
   "outputs": [],
   "source": [
    "book_ratings.to_csv(\"Output/book_ratings.csv\", index = False)"
   ]
  },
  {
   "cell_type": "code",
   "execution_count": null,
   "id": "0cd134c2",
   "metadata": {},
   "outputs": [],
   "source": [
    "n_users = book_ratings[\"User-ID\"].unique().shape[0]\n",
    "n_items = book_ratings[\"ISBN_encoded\"].unique().shape[0]\n",
    "n_items = book_ratings[\"ISBN_encoded\"].max()\n",
    "A = np.zeros((n_users, n_items))\n",
    "\n",
    "for line in dataset.itertuples():\n",
    "    A[line[1] - 1, line[2] - 1] = line[3]\n"
   ]
  },
  {
   "cell_type": "code",
   "execution_count": 32,
   "id": "2aaf8035",
   "metadata": {},
   "outputs": [],
   "source": [
    "non_integer_rows = book_ratings[~book_ratings['ISBN_encoded'].apply(lambda x: isinstance(x, int))]"
   ]
  },
  {
   "cell_type": "code",
   "execution_count": 33,
   "id": "5c28a1b2",
   "metadata": {},
   "outputs": [
    {
     "data": {
      "text/html": [
       "<div>\n",
       "<style scoped>\n",
       "    .dataframe tbody tr th:only-of-type {\n",
       "        vertical-align: middle;\n",
       "    }\n",
       "\n",
       "    .dataframe tbody tr th {\n",
       "        vertical-align: top;\n",
       "    }\n",
       "\n",
       "    .dataframe thead th {\n",
       "        text-align: right;\n",
       "    }\n",
       "</style>\n",
       "<table border=\"1\" class=\"dataframe\">\n",
       "  <thead>\n",
       "    <tr style=\"text-align: right;\">\n",
       "      <th></th>\n",
       "      <th>index</th>\n",
       "      <th>ISBN</th>\n",
       "      <th>Book-Title</th>\n",
       "      <th>Book-Author</th>\n",
       "      <th>Year-Of-Publication</th>\n",
       "      <th>Publisher</th>\n",
       "      <th>User-ID</th>\n",
       "      <th>Book-Rating</th>\n",
       "      <th>ISBN_encoded</th>\n",
       "    </tr>\n",
       "  </thead>\n",
       "  <tbody>\n",
       "  </tbody>\n",
       "</table>\n",
       "</div>"
      ],
      "text/plain": [
       "Empty DataFrame\n",
       "Columns: [index, ISBN, Book-Title, Book-Author, Year-Of-Publication, Publisher, User-ID, Book-Rating, ISBN_encoded]\n",
       "Index: []"
      ]
     },
     "execution_count": 33,
     "metadata": {},
     "output_type": "execute_result"
    }
   ],
   "source": [
    "non_integer_rows"
   ]
  },
  {
   "cell_type": "code",
   "execution_count": null,
   "id": "41b45e83",
   "metadata": {},
   "outputs": [],
   "source": []
  }
 ],
 "metadata": {
  "kernelspec": {
   "display_name": "Python 3 (ipykernel)",
   "language": "python",
   "name": "python3"
  },
  "language_info": {
   "codemirror_mode": {
    "name": "ipython",
    "version": 3
   },
   "file_extension": ".py",
   "mimetype": "text/x-python",
   "name": "python",
   "nbconvert_exporter": "python",
   "pygments_lexer": "ipython3",
   "version": "3.11.4"
  }
 },
 "nbformat": 4,
 "nbformat_minor": 5
}

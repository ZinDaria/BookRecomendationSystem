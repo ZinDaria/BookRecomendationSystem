{
 "cells": [
  {
   "cell_type": "markdown",
   "metadata": {},
   "source": [
    "# Creates Dummies files"
   ]
  },
  {
   "cell_type": "markdown",
   "metadata": {},
   "source": [
    "# Import Dependencies"
   ]
  },
  {
   "cell_type": "code",
   "execution_count": 1,
   "metadata": {},
   "outputs": [],
   "source": [
    "import pandas as pd\n",
    "import pickle as pk"
   ]
  },
  {
   "cell_type": "code",
   "execution_count": 2,
   "metadata": {},
   "outputs": [],
   "source": [
    "# define a formula for calculation of average weighted score\n",
    "def average_weighted(row):\n",
    "    min_th=25 #min number of rating received by the book\n",
    "    neutral_score=5\n",
    "    avg_w = ((row['avg_book_rating'] * row['count_book_rating']) + \n",
    "      (min_th * neutral_score))/(row['count_book_rating'] + min_th)\n",
    "    return avg_w"
   ]
  },
  {
   "cell_type": "code",
   "execution_count": 3,
   "metadata": {},
   "outputs": [],
   "source": [
    "# having min_books_rated_by_user and min_rates_received_by_book to define what we treat as statistically significant\n",
    "# remove those records from ratings_df, which have those books with less than min_rates_received_by_book reviews and those users who have left less than min_books_rated_by_user reviews\n",
    "def leave_stat_sign_data(ratings_df, min_books_rated_by_user=5,min_rates_received_by_book=5):\n",
    "    #select only those books which were rated more than min_rates_received_by_book\n",
    "    groupped_r_books=ratings_df.groupby('Book-Title')['User-ID'].count()\n",
    "    titles_with_acceptable_rates_count=list(groupped_r_books[groupped_r_books>min_rates_received_by_book].index)\n",
    "    #select only those users (user_id) who rated more than min_books_rated_by_user books\n",
    "    groupped_r_users=ratings_df.groupby('User-ID')['Book-Rating'].count()\n",
    "    user_ids_with_acceptable_books_count_rated=list(groupped_r_users[groupped_r_users>min_books_rated_by_user].index)\n",
    "    # filter rating-user data to have only books/users of interest (which have highest rates count and rated highest number of books respectively)\n",
    "    rating_final_df=ratings_df[ratings_df['Book-Title'].isin(titles_with_acceptable_rates_count)&ratings_df['User-ID'].isin(user_ids_with_acceptable_books_count_rated)]\n",
    "    return rating_final_df"
   ]
  },
  {
   "cell_type": "code",
   "execution_count": 4,
   "metadata": {},
   "outputs": [
    {
     "name": "stderr",
     "output_type": "stream",
     "text": [
      "/var/folders/3g/t4y_09d901v7s2qw9dqk8jzw0000gn/T/ipykernel_3173/1936971218.py:2: DtypeWarning: Columns (3) have mixed types. Specify dtype option on import or set low_memory=False.\n",
      "  books_df_original = pd.read_csv('./Resources/Books.csv')\n"
     ]
    }
   ],
   "source": [
    "#Creating dataframes from csv files to read the data\n",
    "books_df_original = pd.read_csv('./Resources/Books.csv')\n",
    "ratings_df_original = pd.read_csv('./Resources/Ratings.csv')"
   ]
  },
  {
   "cell_type": "code",
   "execution_count": 5,
   "metadata": {},
   "outputs": [],
   "source": [
    "# remove duplicated books records if any by looking at ISBN\n",
    "books_df=books_df_original.copy()\n",
    "books_df=books_df.drop_duplicates(subset=['ISBN'])"
   ]
  },
  {
   "cell_type": "code",
   "execution_count": 6,
   "metadata": {},
   "outputs": [],
   "source": [
    "# update the datatype of a 'Year-Of-Publication' field to numeric one\n",
    "books_df['Year-Of-Publication']=pd.to_numeric(books_df['Year-Of-Publication'],errors='coerce')\n",
    "# Filter out data with no publication year\n",
    "books_df = books_df[books_df['Year-Of-Publication'] > 0]\n",
    "books_df['Year-Of-Publication']=books_df['Year-Of-Publication'].astype(int)"
   ]
  },
  {
   "cell_type": "code",
   "execution_count": 7,
   "metadata": {},
   "outputs": [],
   "source": [
    "books_df_algo_input=books_df.copy()"
   ]
  },
  {
   "cell_type": "code",
   "execution_count": 8,
   "metadata": {},
   "outputs": [],
   "source": [
    "ratings_df=ratings_df_original.copy()\n",
    "# update the datatype of a 'Book-Rating' field to numeric one\n",
    "ratings_df['Book-Rating']=pd.to_numeric(ratings_df['Book-Rating'],errors='coerce')"
   ]
  },
  {
   "cell_type": "markdown",
   "metadata": {},
   "source": [
    "### Change ISBN with Titles\n",
    "Merge ratings with books data in order to change isbn with title and leave only those ratings data for which we have title info"
   ]
  },
  {
   "cell_type": "code",
   "execution_count": 9,
   "metadata": {},
   "outputs": [
    {
     "data": {
      "text/plain": [
       "Index(['ISBN', 'Book-Title', 'Book-Author', 'Year-Of-Publication', 'Publisher',\n",
       "       'Image-URL-S', 'Image-URL-M', 'Image-URL-L', 'User-ID', 'Book-Rating'],\n",
       "      dtype='object')"
      ]
     },
     "execution_count": 9,
     "metadata": {},
     "output_type": "execute_result"
    }
   ],
   "source": [
    "ratings_df=pd.merge(books_df,ratings_df,on='ISBN', how = 'inner')\n",
    "ratings_df.columns"
   ]
  },
  {
   "cell_type": "code",
   "execution_count": 10,
   "metadata": {},
   "outputs": [],
   "source": [
    "# delete those rows with no book titles or no book rates if any (even though there should no be such as we used inner join above)\n",
    "ratings_df=ratings_df.dropna()\n",
    "ratings_df_all_cols=ratings_df.copy()\n",
    "ratings_df_all_cols=ratings_df_all_cols[['Book-Title','User-ID','Book-Rating','Book-Author','Publisher']]\n",
    "# delete those columns, which we are not going to use within machine learning algos\n",
    "ratings_df=ratings_df.drop(['ISBN','Book-Author','Year-Of-Publication','Publisher','Image-URL-S','Image-URL-M','Image-URL-L'], axis=1)"
   ]
  },
  {
   "cell_type": "code",
   "execution_count": 11,
   "metadata": {},
   "outputs": [],
   "source": [
    "ratings_df_all_cols['Publisher']=ratings_df_all_cols['Publisher'].str.replace('&amp;', 'and')\n",
    "ratings_df_all_cols['Book-Author']=ratings_df_all_cols['Book-Author'].str.replace('Ã©', 'é')"
   ]
  },
  {
   "cell_type": "code",
   "execution_count": 12,
   "metadata": {},
   "outputs": [],
   "source": [
    "ratings_df_algo_input=ratings_df.copy()"
   ]
  },
  {
   "cell_type": "code",
   "execution_count": 13,
   "metadata": {},
   "outputs": [],
   "source": [
    "# Filter out data with zero ratings\n",
    "ratings_df_no_zeros = ratings_df[ratings_df['Book-Rating'] != 0]"
   ]
  },
  {
   "cell_type": "code",
   "execution_count": 14,
   "metadata": {},
   "outputs": [],
   "source": [
    "# As an alternative to the above update 0 scores with weighted averages"
   ]
  },
  {
   "cell_type": "code",
   "execution_count": 15,
   "metadata": {},
   "outputs": [],
   "source": [
    "# find average score per each book (only take non-zero into account)\n",
    "avg_ratings_scored = ratings_df[ratings_df['Book-Rating'] > 0].groupby('Book-Title')['Book-Rating'].mean()\n",
    "# count of non-zero rating given per book\n",
    "count_ratings_scored = ratings_df[ratings_df['Book-Rating'] > 0].groupby('Book-Title')['Book-Rating'].count()\n",
    "# create dataframe with above data (average and count) per book\n",
    "average_weighted_df=pd.DataFrame(avg_ratings_scored).rename(columns={'Book-Rating':'avg_book_rating'})\n",
    "count_ratings_scored_df=pd.DataFrame(count_ratings_scored).rename(columns={'Book-Rating':'count_book_rating'})\n",
    "average_weighted_df=pd.merge(average_weighted_df,count_ratings_scored_df,  on='Book-Title', how='inner')\n",
    "average_weighted_df=average_weighted_df.sort_values(by='count_book_rating', ascending=False)\n",
    "# find average weighted per book\n",
    "average_weighted_df['avg_weighted']=average_weighted_df.apply(average_weighted, axis=1)\n",
    "# update zero rating values with average weighted\n",
    "ratings_df_adj=ratings_df.copy()\n",
    "ratings_df_adj.loc[ratings_df_adj['Book-Rating'] == 0, 'Book-Rating'] = ratings_df_adj.loc[ratings_df_adj['Book-Rating'] == 0].index.map(average_weighted_df['avg_weighted'])\n",
    "# Filter out data with n/a rating score after mapping, as there could be books with only 0 scores\n",
    "ratings_df_adj=ratings_df_adj.dropna(subset=['Book-Rating'])"
   ]
  },
  {
   "cell_type": "code",
   "execution_count": 16,
   "metadata": {},
   "outputs": [],
   "source": [
    "# Use avg rate per duplicates set for three: ratings_df, ratings_df_adj and ratings_df_no_zeros\n",
    "ratings_df_original=ratings_df.groupby(['Book-Title','User-ID'])['Book-Rating'].mean().reset_index()\n",
    "ratings_df_mean=ratings_df_adj.groupby(['Book-Title','User-ID'])['Book-Rating'].mean().reset_index()\n",
    "ratings_df_no_zeros=ratings_df_no_zeros.groupby(['Book-Title','User-ID'])['Book-Rating'].mean().reset_index()"
   ]
  },
  {
   "cell_type": "code",
   "execution_count": 17,
   "metadata": {},
   "outputs": [],
   "source": [
    "# leave only statistically significant data for both ratings_df_adj and ratings_df_no_zeros\n",
    "rating_final_original_df=leave_stat_sign_data(ratings_df_original)\n",
    "rating_final_mean_df=leave_stat_sign_data(ratings_df_adj)\n",
    "rating_final_no_zeros_df=leave_stat_sign_data(ratings_df_no_zeros)"
   ]
  },
  {
   "cell_type": "code",
   "execution_count": 18,
   "metadata": {},
   "outputs": [],
   "source": [
    "pk.dump(ratings_df_all_cols,open('ratings_df_all_cols.pkl','wb'))"
   ]
  },
  {
   "cell_type": "code",
   "execution_count": 19,
   "metadata": {},
   "outputs": [],
   "source": [
    "pk.dump(ratings_df_algo_input,open('ratings_df_algo_input.pkl','wb'))\n",
    "pk.dump(books_df_algo_input,open('books_df_algo_input.pkl','wb'))"
   ]
  }
 ],
 "metadata": {
  "anaconda-cloud": {},
  "kernelspec": {
   "display_name": "Python 3 (ipykernel)",
   "language": "python",
   "name": "python3"
  },
  "language_info": {
   "codemirror_mode": {
    "name": "ipython",
    "version": 3
   },
   "file_extension": ".py",
   "mimetype": "text/x-python",
   "name": "python",
   "nbconvert_exporter": "python",
   "pygments_lexer": "ipython3",
   "version": "3.11.5"
  }
 },
 "nbformat": 4,
 "nbformat_minor": 4
}
